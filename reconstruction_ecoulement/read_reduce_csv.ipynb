{
 "cells": [
  {
   "cell_type": "code",
   "execution_count": 1,
   "metadata": {},
   "outputs": [],
   "source": [
    "import pandas as pd\n",
    "import os "
   ]
  },
  {
   "cell_type": "code",
   "execution_count": 2,
   "metadata": {},
   "outputs": [],
   "source": [
    "hyper_param = {\n",
    "    \"H\": 230.67,  # la rigidité du ressort\n",
    "    \"ya0\": [\n",
    "        0.00125,\n",
    "        0.00375,\n",
    "        0.00625,\n",
    "        0.00875,\n",
    "        0.01,\n",
    "    ],  # la position initiale du ressort\n",
    "    \"m\": 1.57,  # la masse du ressort\n",
    "    \"file\": [\n",
    "        \"data_john_4_case_2.csv\",\n",
    "        \"data_john_5_case_2.csv\",\n",
    "        \"data_john_7_case_2.csv\",\n",
    "        \"data_john_9_case_2.csv\",\n",
    "        \"data_john_1_case_2.csv\",\n",
    "    ],\n",
    "    \"nb_epoch\": 1000,  # epoch number\n",
    "    \"save_rate\": 20,  # rate to save\n",
    "    \"dynamic_weights\": True,\n",
    "    \"lr_weights\": 1e-1,  # si dynamic weights\n",
    "    \"weight_data\": 0.33,\n",
    "    \"weight_pde\": 0.33,\n",
    "    \"weight_border\": 0.33,\n",
    "    \"batch_size\": 10000,  # for the pde\n",
    "    \"nb_points_pde\": 1000000,  # Total number of pde points\n",
    "    \"Re\": 100,\n",
    "    \"lr_init\": 0.001,\n",
    "    \"gamma_scheduler\": 0.999,  # pour la lr\n",
    "    \"nb_layers\": 15,\n",
    "    \"nb_neurons\": 64,\n",
    "    \"n_pde_test\": 5000,\n",
    "    \"n_data_test\": 5000,\n",
    "    \"nb_points\": 12 * 12,  # le nombre de points pris par axe par pas de temps\n",
    "    \"x_min\": -0.1,\n",
    "    \"x_max\": 0.1,\n",
    "    \"y_min\": -0.06,\n",
    "    \"y_max\": 0.06,\n",
    "    \"t_min\": 6.5,\n",
    "    'nb_period': 20,\n",
    "    'nb_period_plot': 2,\n",
    "    \"nb_points_close_cylinder\": 50,  # le nombre de points proches du cylindre\n",
    "    \"rayon_close_cylinder\": 0.015,\n",
    "    \"nb_points_border\": 25,  # le nombrede points sur la condition init\n",
    "}"
   ]
  },
  {
   "cell_type": "code",
   "execution_count": 3,
   "metadata": {},
   "outputs": [],
   "source": [
    "names = [f\"data_john_{k}_case_1.csv\" for k in range(1,19)]\n",
    "names += [f\"data_john_{k}_case_2.csv\" for k in range(1,19)]"
   ]
  },
  {
   "cell_type": "code",
   "execution_count": 3,
   "metadata": {},
   "outputs": [],
   "source": [
    "names = [f\"data_john_{k}_case_1.csv\" for k in [1]]"
   ]
  },
  {
   "cell_type": "code",
   "execution_count": 5,
   "metadata": {},
   "outputs": [
    {
     "name": "stdout",
     "output_type": "stream",
     "text": [
      "data_john_1_case_1.csv\n",
      "`s3/fhd/data_john_1_case_1.csv` -> `data/data_john_1_case_1.csv`\n",
      "Total: 1019.33 MiB, Transferred: 1019.33 MiB, Speed: 138.92 MiB/s\n"
     ]
    }
   ],
   "source": [
    "for file in names :\n",
    "    print(file)\n",
    "    os.system(f'mc cp -r s3/fhd/{file} ./data/.')\n",
    "    df = pd.read_csv('data/'+ file)\n",
    "    f = 0.5 * (hyper_param[\"H\"] / hyper_param[\"m\"]) ** 0.5 / hyper_param['nb_period_plot']  # la fréquence de l'écoulement\n",
    "    t_max = hyper_param['t_min'] + hyper_param['nb_period'] / f \n",
    "    df_modified = df.loc[\n",
    "            # (df[\"Points:0\"] >= hyper_param[\"x_min\"])\n",
    "            # & (df[\"Points:0\"] <= hyper_param[\"x_max\"])\n",
    "            # & (df[\"Points:1\"] >= hyper_param[\"y_min\"])\n",
    "            # & (df[\"Points:1\"] <= hyper_param[\"y_max\"])\n",
    "            # & (df[\"Time\"] > hyper_param[\"t_min\"])\n",
    "            # & (df[\"Time\"] < t_max)\n",
    "            (df[\"Points:2\"] == 0.0)\n",
    "            # pour ne pas avoir dans le cylindre\n",
    "            # & (df[\"Points:0\"] ** 2 + df[\"Points:1\"] ** 2 > (0.025 / 2) ** 2),\n",
    "            , :,\n",
    "        ].copy()\n",
    "    df_modified.to_csv('data/'+file, index=False)"
   ]
  },
  {
   "cell_type": "code",
   "execution_count": 3,
   "metadata": {},
   "outputs": [],
   "source": [
    "file = \"data_john_4_case_1.csv\""
   ]
  },
  {
   "cell_type": "code",
   "execution_count": 4,
   "metadata": {},
   "outputs": [
    {
     "name": "stderr",
     "output_type": "stream",
     "text": [
      "mc: <ERROR> Unable to prepare URL for copying. Unable to guess the type of copy operation.\n"
     ]
    },
    {
     "data": {
      "text/plain": [
       "256"
      ]
     },
     "execution_count": 4,
     "metadata": {},
     "output_type": "execute_result"
    }
   ],
   "source": [
    "os.system(f'mc cp -r s3/fhd/{file} ./data/.')"
   ]
  },
  {
   "cell_type": "code",
   "execution_count": null,
   "metadata": {},
   "outputs": [],
   "source": []
  }
 ],
 "metadata": {
  "kernelspec": {
   "display_name": "base",
   "language": "python",
   "name": "python3"
  },
  "language_info": {
   "codemirror_mode": {
    "name": "ipython",
    "version": 3
   },
   "file_extension": ".py",
   "mimetype": "text/x-python",
   "name": "python",
   "nbconvert_exporter": "python",
   "pygments_lexer": "ipython3",
   "version": "3.12.7"
  }
 },
 "nbformat": 4,
 "nbformat_minor": 2
}
