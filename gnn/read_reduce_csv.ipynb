{
 "cells": [
  {
   "cell_type": "code",
   "execution_count": 1,
   "metadata": {},
   "outputs": [],
   "source": [
    "import pandas as pd\n",
    "import os "
   ]
  },
  {
   "cell_type": "code",
   "execution_count": 2,
   "metadata": {},
   "outputs": [],
   "source": [
    "hyper_param = {\n",
    "    \"H\": [\n",
    "        230.67,\n",
    "    ],\n",
    "    \"ya0\": [\n",
    "        0.00875,\n",
    "    ],\n",
    "    \"m\": 1.57,\n",
    "    \"file\": [\n",
    "        \"data_john_9_case_2.csv\",\n",
    "    ],\n",
    "    \"nb_epoch\": 1000,\n",
    "    \"save_rate\": 20,\n",
    "    \"dynamic_weights\": False,\n",
    "    \"lr_weights\": 0.1,\n",
    "    \"weight_data\": 0.33,\n",
    "    \"weight_pde\": 0.33,\n",
    "    \"weight_border\": 0.33,\n",
    "    \"batch_size\": 10000,\n",
    "    \"nb_points_pde\": 1000000,\n",
    "    \"Re\": 100,\n",
    "    \"lr_init\": 3e-4,\n",
    "    \"gamma_scheduler\": 0.999,\n",
    "    \"nb_layers\": 10,\n",
    "    \"nb_neurons\": 64,\n",
    "    \"n_pde_test\": 5000,\n",
    "    \"n_data_test\": 5000,\n",
    "    \"nb_points\": 144,\n",
    "    \"x_min\": -0.1,\n",
    "    \"x_max\": 0.1,\n",
    "    \"y_min\": -0.1,\n",
    "    \"y_max\": 0.1,\n",
    "    \"t_min\": 6.5,\n",
    "    \"nb_period\": 40,\n",
    "    \"nb_period_plot\": 2,\n",
    "    \"nb_points_close_cylinder\": 1,\n",
    "    \"rayon_close_cylinder\": 0.035,\n",
    "    \"force_inertie_bool\": True\n",
    "}\n",
    "\n"
   ]
  },
  {
   "cell_type": "code",
   "execution_count": 6,
   "metadata": {},
   "outputs": [],
   "source": [
    "names = [f\"model_{k}_case_1.csv\" for k in range(7,19)]\n",
    "names += [f\"model_{k}_case_2.csv\" for k in range(7,19)]"
   ]
  },
  {
   "cell_type": "code",
   "execution_count": 17,
   "metadata": {},
   "outputs": [],
   "source": [
    "names = [f\"model_{k}_case_2.csv\" for k in range(1,18) if k!=5]"
   ]
  },
  {
   "cell_type": "code",
   "execution_count": 18,
   "metadata": {},
   "outputs": [],
   "source": [
    "x_min = -0.1\n",
    "x_max = 0.1\n",
    "y_min = -0.1\n",
    "y_max = 0.1\n",
    "t_min = 6.\n",
    "t_max = 12."
   ]
  },
  {
   "cell_type": "code",
   "execution_count": 19,
   "metadata": {},
   "outputs": [
    {
     "name": "stdout",
     "output_type": "stream",
     "text": [
      "model_1_case_2.csv\n",
      "`s3/hugopavy/model_1_case_2_border.csv` -> `data/model_1_case_2_border.csv`\n",
      "Total: 17.88 MiB, Transferred: 17.88 MiB, Speed: 37.19 MiB/s\n",
      "`s3/hugopavy/model_1_case_2.csv` -> `data/model_1_case_2.csv`\n",
      "Total: 1.19 GiB, Transferred: 1.19 GiB, Speed: 56.26 MiB/s\n",
      "model_2_case_2.csv\n",
      "`s3/hugopavy/model_2_case_2_border.csv` -> `data/model_2_case_2_border.csv`\n",
      "Total: 17.88 MiB, Transferred: 17.88 MiB, Speed: 51.39 MiB/s\n",
      "`s3/hugopavy/model_2_case_2.csv` -> `data/model_2_case_2.csv`\n",
      "Total: 1.19 GiB, Transferred: 1.19 GiB, Speed: 84.70 MiB/s\n",
      "model_3_case_2.csv\n",
      "`s3/hugopavy/model_3_case_2_border.csv` -> `data/model_3_case_2_border.csv`\n",
      "Total: 17.88 MiB, Transferred: 17.88 MiB, Speed: 45.88 MiB/s\n",
      "`s3/hugopavy/model_3_case_2.csv` -> `data/model_3_case_2.csv`\n",
      "Total: 1.19 GiB, Transferred: 1.19 GiB, Speed: 94.89 MiB/s\n",
      "model_4_case_2.csv\n",
      "`s3/hugopavy/model_4_case_2_border.csv` -> `data/model_4_case_2_border.csv`\n",
      "Total: 17.88 MiB, Transferred: 17.88 MiB, Speed: 24.31 MiB/s\n",
      "`s3/hugopavy/model_4_case_2.csv` -> `data/model_4_case_2.csv`\n",
      "Total: 1.19 GiB, Transferred: 1.19 GiB, Speed: 80.51 MiB/s\n",
      "model_6_case_2.csv\n",
      "`s3/hugopavy/model_6_case_2_border.csv` -> `data/model_6_case_2_border.csv`\n",
      "Total: 17.88 MiB, Transferred: 17.88 MiB, Speed: 44.94 MiB/s\n",
      "`s3/hugopavy/model_6_case_2.csv` -> `data/model_6_case_2.csv`\n",
      "Total: 1.19 GiB, Transferred: 1.19 GiB, Speed: 73.11 MiB/s\n",
      "model_7_case_2.csv\n",
      "`s3/hugopavy/model_7_case_2_border.csv` -> `data/model_7_case_2_border.csv`\n",
      "Total: 17.88 MiB, Transferred: 17.88 MiB, Speed: 46.31 MiB/s\n",
      "`s3/hugopavy/model_7_case_2.csv` -> `data/model_7_case_2.csv`\n",
      "Total: 1.19 GiB, Transferred: 1.19 GiB, Speed: 90.25 MiB/s\n",
      "model_8_case_2.csv\n",
      "`s3/hugopavy/model_8_case_2_border.csv` -> `data/model_8_case_2_border.csv`\n",
      "Total: 17.88 MiB, Transferred: 17.88 MiB, Speed: 53.63 MiB/s\n",
      "`s3/hugopavy/model_8_case_2.csv` -> `data/model_8_case_2.csv`\n",
      "Total: 1.19 GiB, Transferred: 1.19 GiB, Speed: 71.77 MiB/s\n",
      "model_9_case_2.csv\n",
      "`s3/hugopavy/model_9_case_2_border.csv` -> `data/model_9_case_2_border.csv`\n",
      "Total: 17.88 MiB, Transferred: 17.88 MiB, Speed: 45.77 MiB/s\n",
      "`s3/hugopavy/model_9_case_2.csv` -> `data/model_9_case_2.csv`\n",
      "Total: 1.19 GiB, Transferred: 1.19 GiB, Speed: 99.96 MiB/s\n",
      "model_10_case_2.csv\n",
      "`s3/hugopavy/model_10_case_2_border.csv` -> `data/model_10_case_2_border.csv`\n",
      "Total: 17.89 MiB, Transferred: 17.89 MiB, Speed: 36.76 MiB/s\n",
      "`s3/hugopavy/model_10_case_2.csv` -> `data/model_10_case_2.csv`\n",
      "Total: 1.19 GiB, Transferred: 1.19 GiB, Speed: 75.36 MiB/s\n",
      "model_11_case_2.csv\n",
      "`s3/hugopavy/model_11_case_2_border.csv` -> `data/model_11_case_2_border.csv`\n",
      "Total: 17.89 MiB, Transferred: 17.89 MiB, Speed: 54.94 MiB/s\n",
      "`s3/hugopavy/model_11_case_2.csv` -> `data/model_11_case_2.csv`\n",
      "Total: 1.19 GiB, Transferred: 1.19 GiB, Speed: 108.37 MiB/s\n",
      "model_12_case_2.csv\n",
      "`s3/hugopavy/model_12_case_2_border.csv` -> `data/model_12_case_2_border.csv`\n",
      "Total: 17.89 MiB, Transferred: 17.89 MiB, Speed: 46.87 MiB/s\n",
      "`s3/hugopavy/model_12_case_2.csv` -> `data/model_12_case_2.csv`\n",
      "Total: 1.19 GiB, Transferred: 1.19 GiB, Speed: 83.07 MiB/s\n",
      "model_13_case_2.csv\n",
      "`s3/hugopavy/model_13_case_2_border.csv` -> `data/model_13_case_2_border.csv`\n",
      "Total: 17.89 MiB, Transferred: 17.89 MiB, Speed: 53.46 MiB/s\n",
      "`s3/hugopavy/model_13_case_2.csv` -> `data/model_13_case_2.csv`\n",
      "Total: 1.19 GiB, Transferred: 1.19 GiB, Speed: 69.59 MiB/s\n",
      "model_14_case_2.csv\n",
      "`s3/hugopavy/model_14_case_2_border.csv` -> `data/model_14_case_2_border.csv`\n",
      "Total: 17.89 MiB, Transferred: 17.89 MiB, Speed: 56.90 MiB/s\n",
      "`s3/hugopavy/model_14_case_2.csv` -> `data/model_14_case_2.csv`\n",
      "Total: 1.19 GiB, Transferred: 1.19 GiB, Speed: 60.41 MiB/s\n",
      "model_15_case_2.csv\n",
      "`s3/hugopavy/model_15_case_2_border.csv` -> `data/model_15_case_2_border.csv`\n",
      "Total: 17.89 MiB, Transferred: 17.89 MiB, Speed: 51.81 MiB/s\n",
      "`s3/hugopavy/model_15_case_2.csv` -> `data/model_15_case_2.csv`\n",
      "Total: 1.19 GiB, Transferred: 1.19 GiB, Speed: 80.46 MiB/s\n",
      "model_16_case_2.csv\n",
      "`s3/hugopavy/model_16_case_2_border.csv` -> `data/model_16_case_2_border.csv`\n",
      "Total: 17.89 MiB, Transferred: 17.89 MiB, Speed: 57.39 MiB/s\n",
      "`s3/hugopavy/model_16_case_2.csv` -> `data/model_16_case_2.csv`\n",
      "Total: 1.19 GiB, Transferred: 1.19 GiB, Speed: 68.05 MiB/s\n",
      "model_17_case_2.csv\n",
      "`s3/hugopavy/model_17_case_2_border.csv` -> `data/model_17_case_2_border.csv`\n",
      "Total: 17.90 MiB, Transferred: 17.90 MiB, Speed: 8.40 MiB/s\n",
      "`s3/hugopavy/model_17_case_2.csv` -> `data/model_17_case_2.csv`\n",
      "Total: 1.19 GiB, Transferred: 1.19 GiB, Speed: 58.79 MiB/s\n"
     ]
    }
   ],
   "source": [
    "for file in names :\n",
    "    print(file)\n",
    "    os.system(f'mc cp -r s3/hugopavy/{file[:-4]}_border.csv ./data/.')\n",
    "    os.system(f'mc cp -r s3/hugopavy/{file} ./data/.')\n",
    "    df = pd.read_csv('data/'+ file)\n",
    "    df_modified = df.loc[\n",
    "            (df[\"Points:0\"] >= x_min)\n",
    "            & (df[\"Points:0\"] <= x_max)\n",
    "            & (df[\"Points:1\"] >= y_min)\n",
    "            & (df[\"Points:1\"] <= y_max)\n",
    "            & (df[\"Time\"] > t_min)\n",
    "            & (df[\"Time\"] < t_max)\n",
    "            & (df[\"Points:2\"] == 0.0)\n",
    "            , :,\n",
    "        ].copy()\n",
    "    df_modified.to_csv('data/'+file, index=False)"
   ]
  },
  {
   "cell_type": "code",
   "execution_count": 20,
   "metadata": {},
   "outputs": [],
   "source": [
    "names = [f\"model_5_case_2.csv\"]"
   ]
  },
  {
   "cell_type": "code",
   "execution_count": 21,
   "metadata": {},
   "outputs": [
    {
     "name": "stdout",
     "output_type": "stream",
     "text": [
      "model_5_case_2.csv\n",
      "`s3/hugopavy/model_5_case_2_border.csv` -> `data/model_5_case_2_border.csv`\n",
      "Total: 17.88 MiB, Transferred: 17.88 MiB, Speed: 52.38 MiB/s\n",
      "`s3/hugopavy/model_5_case_2.csv` -> `data/model_5_case_2.csv`\n",
      "Total: 1.19 GiB, Transferred: 1.19 GiB, Speed: 52.72 MiB/s\n"
     ]
    }
   ],
   "source": [
    "for file in names :\n",
    "    print(file)\n",
    "    os.system(f'mc cp -r s3/hugopavy/{file[:-4]}_border.csv ./data/.')\n",
    "    os.system(f'mc cp -r s3/hugopavy/{file} ./data/.')\n",
    "    df = pd.read_csv('data/'+ file)\n",
    "    df_modified = df.loc[\n",
    "            (df[\"Points:0\"] >= x_min)\n",
    "            & (df[\"Points:0\"] <= x_max)\n",
    "            & (df[\"Points:1\"] >= y_min)\n",
    "            & (df[\"Points:1\"] <= y_max)\n",
    "            & (df[\"Time\"] > t_min)\n",
    "            & (df[\"Time\"] < t_max)\n",
    "            & (df[\"Points:2\"] == 0.0)\n",
    "            , :,\n",
    "        ].copy()\n",
    "    df_modified.to_csv('data/'+file, index=False)"
   ]
  },
  {
   "cell_type": "code",
   "execution_count": 3,
   "metadata": {},
   "outputs": [],
   "source": [
    "file = \"data_john_4_case_1.csv\""
   ]
  },
  {
   "cell_type": "code",
   "execution_count": 4,
   "metadata": {},
   "outputs": [
    {
     "name": "stderr",
     "output_type": "stream",
     "text": [
      "mc: <ERROR> Unable to prepare URL for copying. Unable to guess the type of copy operation.\n"
     ]
    },
    {
     "data": {
      "text/plain": [
       "256"
      ]
     },
     "execution_count": 4,
     "metadata": {},
     "output_type": "execute_result"
    }
   ],
   "source": [
    "os.system(f'mc cp -r s3/fhd/{file} ./data/.')"
   ]
  },
  {
   "cell_type": "code",
   "execution_count": 9,
   "metadata": {},
   "outputs": [
    {
     "ename": "NameError",
     "evalue": "name 't_max' is not defined",
     "output_type": "error",
     "traceback": [
      "\u001b[0;31m---------------------------------------------------------------------------\u001b[0m",
      "\u001b[0;31mNameError\u001b[0m                                 Traceback (most recent call last)",
      "Cell \u001b[0;32mIn[9], line 1\u001b[0m\n\u001b[0;32m----> 1\u001b[0m \u001b[43mt_max\u001b[49m\n",
      "\u001b[0;31mNameError\u001b[0m: name 't_max' is not defined"
     ]
    }
   ],
   "source": [
    "t_max"
   ]
  },
  {
   "cell_type": "code",
   "execution_count": null,
   "metadata": {},
   "outputs": [],
   "source": []
  }
 ],
 "metadata": {
  "kernelspec": {
   "display_name": "base",
   "language": "python",
   "name": "python3"
  },
  "language_info": {
   "codemirror_mode": {
    "name": "ipython",
    "version": 3
   },
   "file_extension": ".py",
   "mimetype": "text/x-python",
   "name": "python",
   "nbconvert_exporter": "python",
   "pygments_lexer": "ipython3",
   "version": "3.12.7"
  }
 },
 "nbformat": 4,
 "nbformat_minor": 2
}
