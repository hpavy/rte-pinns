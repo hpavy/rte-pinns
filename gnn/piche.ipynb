{
 "cells": [
  {
   "cell_type": "code",
   "execution_count": 1,
   "metadata": {},
   "outputs": [],
   "source": [
    "import torch \n",
    "import torch.nn as nn\n",
    "import torch.nn.functional as F\n",
    "from model import GNN\n",
    "from utils import charge_data\n",
    "from torch.utils.data import Dataset\n",
    "from constants import DICT_Y0, DICT_CASE, PARAM_ADIM, M"
   ]
  },
  {
   "cell_type": "code",
   "execution_count": 2,
   "metadata": {},
   "outputs": [],
   "source": [
    "class GraphDataset(Dataset):\n",
    "    def __init__(self, X_full, U_full, nb_neighbours):\n",
    "        self.X_full = X_full\n",
    "        self.U_full = U_full\n",
    "        time_ = X_full[:, 2].unique()[5]\n",
    "        self.delta_t = (X_full[:, 2].unique()[1:] - X_full[:, 2].unique()[:-1]).mean()\n",
    "        X = X_full[X_full[:, 2] == time_][:, :2]\n",
    "        indices = torch.argsort(X[:, 0]*1.1 + X[:, 1]*1.5)\n",
    "        X_sort = X[indices]\n",
    "        # Broadcasting de génie\n",
    "        diff = X_sort[:, None, :] - X_sort[None, :, :]\n",
    "        # Calcul des distances euclidiennes\n",
    "        distances = torch.sqrt((diff ** 2).sum(dim=2))\n",
    "        self.edge_neighbours = torch.empty((X_sort.shape[0], nb_neighbours), dtype=torch.long)\n",
    "        edge_attributes = torch.empty((X_sort.shape[0], nb_neighbours, 3))\n",
    "        for i in range(X_sort.shape[0]):\n",
    "            self.edge_neighbours[i, :] = torch.topk(distances[i, :], nb_neighbours + 1, largest=False)[1][1:]\n",
    "            for k, neighbour in enumerate(self.edge_neighbours[i, :]):\n",
    "                neighbour = neighbour.item()\n",
    "                # print(X_sort[i,0]-X_sort[neighbour, 0])\n",
    "                # print(i, neighbour)\n",
    "                # print(X_sort[i,0]-X_sort[neighbour, 0])\n",
    "                # print(X_sort[i,1]-X_sort[neighbour, 1])\n",
    "                # print(torch.sqrt(torch.sum((X_sort[i, :]-X_sort[neighbour, :])**2)))\n",
    "                edge_attributes[i, k, :] = torch.stack((X_sort[i,0]-X_sort[neighbour, 0], X_sort[i,1]-X_sort[neighbour, 1], torch.sqrt(torch.sum((X_sort[i]-X_sort[neighbour])**2))))\n",
    "                print(torch.stack((X_sort[i,0]-X_sort[neighbour, 0], X_sort[i,1]-X_sort[neighbour, 1], torch.sqrt(torch.sum((X_sort[i]-X_sort[neighbour])**2)))))\n",
    "        self.edge_attributes = edge_attributes\n",
    "\n",
    "\n",
    "    def __len__(self):\n",
    "        return self.X_full[:, 2].unique().shape[0] - 1\n",
    "\n",
    "    def __getitem__(self, idx):\n",
    "        time_ = self.X_full[:, 2].unique()[idx]\n",
    "        masque_time = self.X_full[:, 2]==time_\n",
    "        X = self.X_full[masque_time][:, :2]\n",
    "        indices = torch.argsort(X[:, 0]*1.1 + X[:, 1]*1.5)\n",
    "        U_sort = self.U_full[masque_time][indices]\n",
    "\n",
    "        # le next time\n",
    "        time_n = self.X_full[:, 2].unique()[idx + 1]\n",
    "        masque_time_n = self.X_full[:, 2]==time_n\n",
    "        X_n = self.X_full[masque_time_n][:, :2]\n",
    "        indices_n = torch.argsort(X_n[:, 0]*1.1 + X_n[:, 1]*1.5)\n",
    "        U_sort_n = self.U_full[masque_time_n][indices_n]\n",
    "        return U_sort, U_sort_n"
   ]
  },
  {
   "cell_type": "code",
   "execution_count": 3,
   "metadata": {},
   "outputs": [],
   "source": [
    "\n",
    "hyper_param = {\n",
    "    \"num\": 1,\n",
    "    \"case\": 2,\n",
    "    \"nb_epoch\": 1000,\n",
    "    \"save_rate\": 10,\n",
    "    \"batch_size\": 10,\n",
    "    \"lr\": 1e-3,\n",
    "    \"gamma_scheduler\": 0.999,\n",
    "    \"x_min\": -0.06,\n",
    "    \"x_max\": 0.06,\n",
    "    \"y_min\": -0.06,\n",
    "    \"y_max\": 0.06,\n",
    "    \"t_min\": 6.5,\n",
    "    'nb_hidden': 2,\n",
    "    'dim_latent': 32,\n",
    "    'nb_gn': 5,\n",
    "    'nb_hidden_encode': 4,\n",
    "    'nb_neighbours': 4\n",
    "}\n",
    "\n",
    "hyper_param['H'] = [DICT_CASE[str(hyper_param['case'])]]\n",
    "hyper_param['ya0'] = [DICT_Y0[str(hyper_param['num'])]]\n",
    "hyper_param['file'] = [\n",
    "    f\"model_{hyper_param['num']}_case_{hyper_param['case']}.csv\"\n",
    "    ]\n",
    "hyper_param['m']=M"
   ]
  },
  {
   "cell_type": "code",
   "execution_count": 4,
   "metadata": {},
   "outputs": [
    {
     "ename": "NameError",
     "evalue": "name 'X_f' is not defined",
     "output_type": "error",
     "traceback": [
      "\u001b[0;31m---------------------------------------------------------------------------\u001b[0m",
      "\u001b[0;31mNameError\u001b[0m                                 Traceback (most recent call last)",
      "Cell \u001b[0;32mIn[4], line 1\u001b[0m\n\u001b[0;32m----> 1\u001b[0m dataset \u001b[38;5;241m=\u001b[39m GraphDataset(\u001b[43mX_f\u001b[49m, U_f, \u001b[38;5;241m4\u001b[39m)\n",
      "\u001b[0;31mNameError\u001b[0m: name 'X_f' is not defined"
     ]
    }
   ],
   "source": [
    "dataset = GraphDataset(X_f, U_f, 4)"
   ]
  },
  {
   "cell_type": "code",
   "execution_count": 100,
   "metadata": {},
   "outputs": [
    {
     "data": {
      "text/plain": [
       "tensor([ 0.0000, -0.1081])"
      ]
     },
     "execution_count": 100,
     "metadata": {},
     "output_type": "execute_result"
    }
   ],
   "source": [
    "torch.stack((torch.tensor(0.), torch.tensor(-0.1081) ))"
   ]
  },
  {
   "cell_type": "code",
   "execution_count": null,
   "metadata": {},
   "outputs": [],
   "source": []
  },
  {
   "cell_type": "code",
   "execution_count": 101,
   "metadata": {},
   "outputs": [
    {
     "data": {
      "text/plain": [
       "tensor([0., 0.])"
      ]
     },
     "execution_count": 101,
     "metadata": {},
     "output_type": "execute_result"
    }
   ],
   "source": [
    "torch.concat((torch.zeros(1), torch.zeros(1)))"
   ]
  },
  {
   "cell_type": "code",
   "execution_count": 102,
   "metadata": {},
   "outputs": [],
   "source": [
    "piche = dataset.edge_attributes"
   ]
  },
  {
   "cell_type": "code",
   "execution_count": 106,
   "metadata": {},
   "outputs": [
    {
     "data": {
      "text/plain": [
       "tensor([[[ 0.0000, -0.1081,  0.1081],\n",
       "         [-0.1428,  0.0000,  0.1428],\n",
       "         [-0.1428, -0.1081,  0.1791],\n",
       "         [-0.0636, -0.1906,  0.2009]],\n",
       "\n",
       "        [[-0.0825, -0.0288,  0.0874],\n",
       "         [ 0.0000, -0.1081,  0.1081],\n",
       "         [ 0.1428,  0.0000,  0.1428],\n",
       "         [-0.1681,  0.0470,  0.1745]],\n",
       "\n",
       "        [[-0.0636, -0.0825,  0.1042],\n",
       "         [ 0.0000,  0.1081,  0.1081],\n",
       "         [-0.1428,  0.0000,  0.1428],\n",
       "         [ 1.0000,  2.0000,  3.0000]],\n",
       "\n",
       "        ...,\n",
       "\n",
       "        [[ 0.0298,  0.0825,  0.0877],\n",
       "         [ 0.0000, -0.1081,  0.1081],\n",
       "         [ 0.1090,  0.0000,  0.1090],\n",
       "         [ 0.1090, -0.1081,  0.1535]],\n",
       "\n",
       "        [[ 0.0825,  0.0288,  0.0874],\n",
       "         [ 0.0000,  0.1081,  0.1081],\n",
       "         [-0.1090,  0.0000,  0.1090],\n",
       "         [-0.1090,  0.1081,  0.1535]],\n",
       "\n",
       "        [[ 0.0000,  0.1081,  0.1081],\n",
       "         [ 0.1090,  0.0000,  0.1090],\n",
       "         [ 0.1090,  0.1081,  0.1535],\n",
       "         [ 0.0298,  0.1906,  0.1929]]])"
      ]
     },
     "execution_count": 106,
     "metadata": {},
     "output_type": "execute_result"
    }
   ],
   "source": [
    "dataset.edge_attributes\n",
    "dataset.edge_attributes\n",
    "dataset.edge_attributes"
   ]
  },
  {
   "cell_type": "code",
   "execution_count": 103,
   "metadata": {},
   "outputs": [],
   "source": [
    "piche[2, 3]=torch.tensor([1.,2.,3.])"
   ]
  },
  {
   "cell_type": "code",
   "execution_count": 104,
   "metadata": {},
   "outputs": [
    {
     "data": {
      "text/plain": [
       "tensor([1., 2., 3.])"
      ]
     },
     "execution_count": 104,
     "metadata": {},
     "output_type": "execute_result"
    }
   ],
   "source": [
    "piche[2, 3]"
   ]
  },
  {
   "cell_type": "code",
   "execution_count": 105,
   "metadata": {},
   "outputs": [
    {
     "data": {
      "text/plain": [
       "tensor([1., 2., 3.])"
      ]
     },
     "execution_count": 105,
     "metadata": {},
     "output_type": "execute_result"
    }
   ],
   "source": [
    "dataset.edge_attributes[2, 3]"
   ]
  },
  {
   "cell_type": "code",
   "execution_count": 5,
   "metadata": {},
   "outputs": [],
   "source": [
    "import torch "
   ]
  },
  {
   "cell_type": "code",
   "execution_count": 6,
   "metadata": {},
   "outputs": [],
   "source": [
    "a = torch.randn((5,3, 4))"
   ]
  },
  {
   "cell_type": "code",
   "execution_count": 11,
   "metadata": {},
   "outputs": [
    {
     "data": {
      "text/plain": [
       "tensor([[[-1.2838,  0.0213,  0.1135,  2.4483],\n",
       "         [-0.2755, -0.1877,  0.6954, -0.9889],\n",
       "         [ 0.0054,  1.0827,  0.1994,  0.0959]],\n",
       "\n",
       "        [[ 1.3519,  0.9063,  0.8944,  0.1244],\n",
       "         [ 0.7181, -0.2826,  0.5639,  0.7737],\n",
       "         [-1.9730, -0.1986, -0.3044, -0.2061]],\n",
       "\n",
       "        [[ 0.1128,  2.3611,  1.3186,  0.4827],\n",
       "         [-0.8359,  0.0433,  0.8415, -0.0158],\n",
       "         [-1.8652, -1.5363, -1.2953,  0.9155]],\n",
       "\n",
       "        [[ 1.7934, -0.8430,  0.5325,  0.0409],\n",
       "         [-0.3138, -0.6120,  2.2826, -0.8945],\n",
       "         [-0.9073,  1.4630, -0.0495,  0.9709]],\n",
       "\n",
       "        [[ 0.5358, -0.0045,  1.4072,  0.2024],\n",
       "         [-0.0117, -0.8032, -1.7285, -0.6000],\n",
       "         [-1.3600, -1.5378, -1.2304, -0.0209]]])"
      ]
     },
     "execution_count": 11,
     "metadata": {},
     "output_type": "execute_result"
    }
   ],
   "source": [
    "a"
   ]
  },
  {
   "cell_type": "code",
   "execution_count": 10,
   "metadata": {},
   "outputs": [
    {
     "data": {
      "text/plain": [
       "tensor([[[-1.2745,  0.0083,  0.0226,  2.5374],\n",
       "         [-0.3226, -0.2034,  0.6836, -0.9504],\n",
       "         [-0.0141,  1.0703,  0.0439,  0.0201]],\n",
       "\n",
       "        [[ 1.2690,  0.9001,  0.8887,  0.0970],\n",
       "         [ 0.7107, -0.2790,  0.6068,  0.8280],\n",
       "         [-2.0173, -0.2709, -0.3346, -0.1197]],\n",
       "\n",
       "        [[ 0.0907,  2.2702,  1.3379,  0.4878],\n",
       "         [-0.8706,  0.0127,  0.8036,  0.0300],\n",
       "         [-1.8692, -1.5607, -1.3504,  1.0059]],\n",
       "\n",
       "        [[ 1.7593, -0.9113,  0.5366,  0.1056],\n",
       "         [-0.3094, -0.5791,  2.2427, -0.8925],\n",
       "         [-0.9039,  1.4117, -0.0286,  0.8650]],\n",
       "\n",
       "        [[ 0.5382, -0.0038,  1.3397,  0.2231],\n",
       "         [-0.0072, -0.8301, -1.7087, -0.5797],\n",
       "         [-1.3330, -1.5420, -1.2513, -0.0695]]])"
      ]
     },
     "execution_count": 10,
     "metadata": {},
     "output_type": "execute_result"
    }
   ],
   "source": [
    "a + 0.05*torch.randn_like(a)"
   ]
  },
  {
   "cell_type": "code",
   "execution_count": null,
   "metadata": {},
   "outputs": [],
   "source": []
  }
 ],
 "metadata": {
  "kernelspec": {
   "display_name": "base",
   "language": "python",
   "name": "python3"
  },
  "language_info": {
   "codemirror_mode": {
    "name": "ipython",
    "version": 3
   },
   "file_extension": ".py",
   "mimetype": "text/x-python",
   "name": "python",
   "nbconvert_exporter": "python",
   "pygments_lexer": "ipython3",
   "version": "3.12.7"
  }
 },
 "nbformat": 4,
 "nbformat_minor": 2
}
